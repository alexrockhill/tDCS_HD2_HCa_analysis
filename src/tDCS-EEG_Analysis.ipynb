{
 "cells": [
  {
   "cell_type": "markdown",
   "metadata": {},
   "source": [
    "# tDCS"
   ]
  },
  {
   "cell_type": "markdown",
   "metadata": {},
   "source": [
    "## Load in data\n",
    "\n",
    "This has to be converted to a fif first using the easy2fif.py script"
   ]
  },
  {
   "cell_type": "code",
   "execution_count": 9,
   "metadata": {
    "ExecuteTime": {
     "start_time": "2018-02-02T12:47:37.042Z"
    }
   },
   "outputs": [
    {
     "name": "stdout",
     "output_type": "stream",
     "text": [
      "Loading in to MEEGbuddy 01 01\n",
      "Please provide the file for a boundary element model if you want source estimation, this can be done using a FLASH or T1 scan using MNE make_flash_bem or make_watershed_bem respectively\n",
      "Please provide the file for a source space if you want source estimation, this can be done using MNE setup_source_space\n",
      "Please provide the file for a coordinate transformation if you want source estimation, this can be done using MNE seting the SUBJECTS_DIR and SUBJECT environmental variables running 'mne_analyze', loading the subjects surface from the recon-all files and the digitization data from the raw file and then manually adjusting until the coordinate frames match. This can then be saved out as a coordinate transform file.\n"
     ]
    }
   ],
   "source": [
    "import os, re, glob\n",
    "import os.path as op\n",
    "from MEEGbuddy import MEEGbuddy\n",
    "from mne.io import Raw, RawArray\n",
    "from mne import create_info, find_events\n",
    "from MEEGbuddy.easy2fif import easy2fif\n",
    "import numpy as np\n",
    "from mne.io import Raw\n",
    "import matplotlib.pyplot as plt\n",
    "from pandas import read_csv, DataFrame\n",
    "\n",
    "subject = '01'\n",
    "session = '01'\n",
    "\n",
    "####################\n",
    "\n",
    "datarex = re.compile(r'[%s|%s]*.easy' % (subject.lower(), subject.upper()))\n",
    "behrex = re.compile(r'[%s|%s]*.txt' % (subject.lower(), subject.upper()))\n",
    "    \n",
    "files = glob.glob(op.join('../data', subject, session, '*'))\n",
    "if not files:\n",
    "    print('Subject data must be in a folder with their name')\n",
    "\n",
    "\n",
    "def sync_raw_behavior(raw, df):\n",
    "    events = find_events(raw)\n",
    "    events = events[events[:, 2] != 3]  # 3 is a marker for a break in the task\n",
    "    first_stim = [i for i, e in enumerate(events[:, 2]) if e in  [11, 12, 21, 22]][0]\n",
    "    # 11, 12, 21 and 22 are the stimuli, we don't want to start events until the first stimulus\n",
    "    # before that there is some practice that gets recorded as triggers\n",
    "    events = events[first_stim:]\n",
    "    for i, e in enumerate(events[:, 2]):\n",
    "        if e in [11, 12, 21, 22]:\n",
    "            events[i, 2] = 50\n",
    "        elif e in [1, 2]:\n",
    "            events[i, 2] = 51\n",
    "    selection = np.ones(len(events), dtype=bool)\n",
    "    selection[1:] = events[1:, 2] != events[:-1, 2]  # delete all second, third + responses, we just want the first one\n",
    "    selection[events[:, 2] == 50] = True\n",
    "    events = events[selection]\n",
    "    # due to a bug in the software several events are not recorded in the behavior that actually were recorded\n",
    "    # in the eeg triggers. We have to go through and delete those\n",
    "    counter = 0\n",
    "    for i, t in enumerate(df.Type):\n",
    "        if t == 'miss':\n",
    "            if events[2*i + 1 - counter, 2] == 51:\n",
    "                events = np.delete(events, 2*i + 1 - counter, axis=0)\n",
    "            counter += 1 \n",
    "    info = create_info(['Stimulus', 'Response'], raw.info['sfreq'], ['stim', 'stim'], verbose=False)\n",
    "    arr = np.zeros((2, len(raw.times)))\n",
    "    for i in events:\n",
    "        arr[0 if i[2] == 50 else 1, i[0]:i[0]+100] = 1\n",
    "    event_chs = RawArray(arr, info, verbose=False)\n",
    "    raw = raw.drop_channels(['Events'])\n",
    "    raw = raw.add_channels([event_chs])\n",
    "    return raw, df\n",
    "\n",
    "\n",
    "for f in files:\n",
    "    if datarex.search(f):\n",
    "        fdata = op.join(op.dirname(f), op.basename(f).split('.')[0] + '-raw.fif')\n",
    "        behavior = op.join(op.dirname(f), op.basename(f).split('.')[0] + '.csv')\n",
    "        if not op.isfile(fdata):\n",
    "            raw = easy2fif(f)\n",
    "            df = None\n",
    "            for f in files:\n",
    "                if behrex.search(f):\n",
    "                    df = read_csv(f, delimiter='\\t')\n",
    "                    df = df.drop(0)\n",
    "                    df = df.reset_index()\n",
    "                    new_columns = {'Experiment': [], 'Flankers': [], 'Stimulus': [], 'Condition': []}\n",
    "                    for code in df.Code:\n",
    "                        experiment, flankers, stimulus, condition, _, _, _ = code.split(',')\n",
    "                        new_columns['Experiment'].append(experiment)\n",
    "                        new_columns['Flankers'].append(flankers)\n",
    "                        new_columns['Stimulus'].append(stimulus)\n",
    "                        new_columns['Condition'].append(condition)\n",
    "                    df2 = DataFrame(new_columns)\n",
    "                    df = df.join(df2, sort=False)\n",
    "                    df['Trial'] = range(1, len(df) + 1)\n",
    "                    df = df[['Trial', 'Type', 'Response', 'RT', 'Time', 'Duration',\n",
    "                             'Experiment', 'Flankers', 'Stimulus', 'Condition']]\n",
    "            if df is None:\n",
    "                raise ValueError('No matching text file for behavior found')\n",
    "            raw, df = sync_raw_behavior(raw, df)\n",
    "            raw.save(fdata, overwrite=True)\n",
    "            df.to_csv(behavior, index=False)\n",
    "        df = read_csv(behavior)\n",
    "        behavior_description = {'Trial': {'Baseline': {'Channel': 'Stimulus', \n",
    "                                                       'Time Min': -0.5, \n",
    "                                                       'Time Max': -0.1},\n",
    "                                          'Events': {'Stimulus': {'Channel': 'Stimulus',\n",
    "                                                                  'Time Min': -0.5,\n",
    "                                                                  'Time Max': 1.0}},\n",
    "                                          'Responses': {'Response': {'Channel': 'Response',\n",
    "                                                                     'Time Min': -1.5,\n",
    "                                                                     'Time Max': 0.5,\n",
    "                                                                     'No Response': [i for i, r in enumerate(df.Response) \n",
    "                                                                                     if np.isnan(r)]}}},\n",
    "                                'Type': 'Hit is when the subject is correct, ' + \n",
    "                                        'incorrect is when they press the wrong button ' +\n",
    "                                        'and miss is when the subject does not respond',\n",
    "                                'Response': '1.0 is for when the subject presses the left button ' + \n",
    "                                            '2.0 is for when the subject presses the right button',\n",
    "                                'RT': 'Reaction time; how long it took the subject to respond ' +\n",
    "                                      'after the stimulus was shown',\n",
    "                                'Time': 'Overall time of the experiment in ms',\n",
    "                                'Duration': 'How long the subject has to respond after the stimulus is shown',\n",
    "                                'Experiment': 'Name of the experiment',\n",
    "                                'Flankers': 'The two carrot characters on the left and right of ' + \n",
    "                                            'the target center character (all facing the same way)',\n",
    "                                'Stimulus': 'The characters presented to the subject that trial',\n",
    "                                'Condition': 'INC (incongruent) when the middle carrot is facing opposite the other carrots' +\n",
    "                                             'CON (congruent) when the middle carrot and flankers are all facing the same direction'\n",
    "                                }\n",
    "        print('Loading in to MEEGbuddy %s %s' % (subject, session))\n",
    "        data = MEEGbuddy(subject=subject, session=session, fdata=fdata, \n",
    "                         behavior=behavior, task='flanker', eeg=True, \n",
    "                         subjects_dir='../data', fs_subjects_dir=False, \n",
    "                         behavior_description=behavior_description)\n",
    "        data.save2BIDS('../bids_data', overwrite=True)"
   ]
  },
  {
   "cell_type": "markdown",
   "metadata": {},
   "source": [
    "Once loaded once, this can be used instead"
   ]
  },
  {
   "cell_type": "code",
   "execution_count": 2,
   "metadata": {},
   "outputs": [],
   "source": [
    "from MEEGbuddy import loadMEEGbuddy\n",
    "\n",
    "subject = '01'\n",
    "session = '01'\n",
    "\n",
    "data = loadMEEGbuddy('../data', subject, session=session, task='flanker', eeg=True)"
   ]
  },
  {
   "cell_type": "markdown",
   "metadata": {},
   "source": [
    "# Preprocess"
   ]
  },
  {
   "cell_type": "markdown",
   "metadata": {},
   "source": [
    "## Mark Bad Channels for Proper Average Rereference\n",
    "Select out bad channels by pressing the names on the left of the GUI or selecting the voltage trace"
   ]
  },
  {
   "cell_type": "code",
   "execution_count": 3,
   "metadata": {},
   "outputs": [
    {
     "name": "stdout",
     "output_type": "stream",
     "text": [
      "Using matplotlib backend: TkAgg\n",
      "Loading Raw file(s)\n",
      "../data/01/01/20190409094229_EEG_Flanker_pre_HD_HCa_01_01_1-raw.fif\n",
      "File saved for Raw Preprocessed \n"
     ]
    }
   ],
   "source": [
    "%matplotlib\n",
    "\n",
    "data.plotRaw(keyword_out='Preprocessed', overwrite=True)"
   ]
  },
  {
   "cell_type": "markdown",
   "metadata": {},
   "source": [
    "## Visualize Epochs"
   ]
  },
  {
   "cell_type": "code",
   "execution_count": 4,
   "metadata": {},
   "outputs": [
    {
     "name": "stdout",
     "output_type": "stream",
     "text": [
      "Loading Raw file(s)\n",
      "../data/01/01/20190409094229_EEG_Flanker_pre_HD_HCa_01_01_1-raw.fif\n",
      "File saved for Raw Preprocessed \n",
      "File loaded for Raw Preprocessed \n",
      "Baseline events found: 140\n",
      "File saved for Epochs Baseline Vis \n",
      "Overwriting existing file.\n",
      "File loaded for Epochs Baseline Vis \n",
      "Stimulus events found: 140\n",
      "File saved for Epochs Stimulus Vis \n",
      "Overwriting existing file.\n",
      "File loaded for Epochs Stimulus Vis \n",
      "File loaded for Epochs Stimulus Vis \n",
      "File saved for Epochs Stimulus Vis \n",
      "Overwriting existing file.\n",
      "File loaded for Epochs Stimulus Vis \n",
      "File loaded for Epochs Baseline Vis \n",
      "File saved for Epochs Baseline Vis \n",
      "Overwriting existing file.\n",
      "File loaded for Epochs Baseline Vis \n"
     ]
    }
   ],
   "source": [
    "data.filterRaw(keyword_out='Preprocessed', l_freq=1, overwrite=True)\n",
    "data.makeEpochs(keyword_in='Preprocessed', keyword_out='Vis', overwrite=True)\n",
    "for event in data.getEvents():\n",
    "    data.filterEpochs(event, keyword_in='Vis', h_freq=40, l_freq=None, overwrite=True) \n",
    "    data.plotEvoked(event, 'Condition', keyword='Vis', show=True, detrend=1, downsample=False, \n",
    "                    ylim={'eeg': [-50, 50]})"
   ]
  },
  {
   "cell_type": "markdown",
   "metadata": {},
   "source": [
    "## ICA"
   ]
  },
  {
   "cell_type": "code",
   "execution_count": 5,
   "metadata": {},
   "outputs": [
    {
     "name": "stdout",
     "output_type": "stream",
     "text": [
      "File loaded for Raw Preprocessed \n",
      "Using no channels as eogs\n",
      "Using no channels as ecgs\n",
      "eeg\n",
      "File saved for ICA eeg ICA \n",
      "File saved for Raw ICA \n"
     ]
    }
   ],
   "source": [
    "data.findICA(keyword_in='Preprocessed', keyword_out='ICA',\n",
    "             overwrite=True, overwrite_ica=True)"
   ]
  },
  {
   "cell_type": "markdown",
   "metadata": {},
   "source": [
    "## Plot ICA for QC"
   ]
  },
  {
   "cell_type": "code",
   "execution_count": null,
   "metadata": {},
   "outputs": [
    {
     "name": "stdout",
     "output_type": "stream",
     "text": [
      "Using matplotlib backend: TkAgg\n",
      "File loaded for Raw Preprocessed \n",
      "Using no channels as eogs\n",
      "Using no channels as ecgs\n",
      "File loaded for ICA eeg ICA \n"
     ]
    }
   ],
   "source": [
    "%matplotlib\n",
    "\n",
    "data.plotICA(keyword_in='Preprocessed', keyword_out='ICA')"
   ]
  },
  {
   "cell_type": "markdown",
   "metadata": {},
   "source": [
    "## Make Epochs"
   ]
  },
  {
   "cell_type": "code",
   "execution_count": null,
   "metadata": {},
   "outputs": [],
   "source": [
    "data.makeEpochs(keyword_in='ICA', overwrite=True)"
   ]
  },
  {
   "cell_type": "markdown",
   "metadata": {},
   "source": [
    "## Check Epochs After ICA"
   ]
  },
  {
   "cell_type": "code",
   "execution_count": null,
   "metadata": {},
   "outputs": [],
   "source": [
    "event = 'Stimulus'\n",
    "data.filterEpochs(event, keyword_in='ICA', keyword_out='Vis',\n",
    "                  h_freq=40, overwrite=True)\n",
    "data.plotEvoked(event, keyword='Vis', ylim={'eeg': [-60, 40]}, \n",
    "                tmin=-0.5, tmax=0.5)"
   ]
  },
  {
   "cell_type": "markdown",
   "metadata": {},
   "source": [
    "## Channel and Trial Rejection Using Autoreject"
   ]
  },
  {
   "cell_type": "code",
   "execution_count": null,
   "metadata": {},
   "outputs": [],
   "source": [
    "for event in data.getEvents():\n",
    "    data.markAutoReject(event, keyword_in='ICA', keyword_out='AR')"
   ]
  },
  {
   "cell_type": "markdown",
   "metadata": {},
   "source": [
    "## Alternately Plot Epochs to Select Out Bads"
   ]
  },
  {
   "cell_type": "code",
   "execution_count": null,
   "metadata": {},
   "outputs": [],
   "source": [
    "event = 'Stimulus'\n",
    "data.plotEvoked(event, show=True, detrend=1, downsample=False, \n",
    "                ylim={'eeg': [-40, 40]})\n",
    "data.plotEpochs(event, keyword_in='ICA', keyword_out='Clean', \n",
    "                l_freq=None, h_freq=None, overwrite=True)"
   ]
  },
  {
   "cell_type": "markdown",
   "metadata": {},
   "source": [
    "## Final Lowpass/Bandstop Filter Epochs"
   ]
  },
  {
   "cell_type": "code",
   "execution_count": null,
   "metadata": {},
   "outputs": [],
   "source": [
    "for event in data.getEvents():\n",
    "    data.filterEpochs(event, h_freq=50, keyword_in='AR', keyword_out='AR_Filtered',\n",
    "                      overwrite=True)"
   ]
  },
  {
   "cell_type": "markdown",
   "metadata": {},
   "source": [
    "## Time Frequency Decomposition"
   ]
  },
  {
   "cell_type": "code",
   "execution_count": null,
   "metadata": {},
   "outputs": [],
   "source": [
    "event = 'Stimulus'\n",
    "condition = 'Condition'\n",
    "data.makeWavelets(event, condition, keyword_in='AR',\n",
    "                  keyword_out='TFR', power_type='pl',\n",
    "                  overwrite=True)\n",
    "data.makeWavelets(event,condition,keyword_in='AR',\n",
    "                  keyword_out='TFR', power_type='npl', \n",
    "                  overwrite=True)"
   ]
  },
  {
   "cell_type": "markdown",
   "metadata": {},
   "source": [
    "# Plots"
   ]
  },
  {
   "cell_type": "markdown",
   "metadata": {},
   "source": [
    "## Control Variables"
   ]
  },
  {
   "cell_type": "code",
   "execution_count": null,
   "metadata": {},
   "outputs": [],
   "source": [
    "data.plotControlVariables(conditions=['Type', 'Response',\n",
    "                                      'Flankers', 'Stimulus', 'Condition'])"
   ]
  },
  {
   "cell_type": "markdown",
   "metadata": {},
   "source": [
    "## Topo"
   ]
  },
  {
   "cell_type": "code",
   "execution_count": null,
   "metadata": {},
   "outputs": [],
   "source": [
    "event = 'Stimulus'\n",
    "condition = 'Condition'\n",
    "data.plotTopo(event, condition=condition, keyword='AR_Filtered',\n",
    "              show=True, detrend=1, downsample=False)"
   ]
  },
  {
   "cell_type": "markdown",
   "metadata": {},
   "source": [
    "## TFR"
   ]
  },
  {
   "cell_type": "code",
   "execution_count": null,
   "metadata": {},
   "outputs": [],
   "source": [
    "event = 'Stimulus'\n",
    "condition = 'Condition'\n",
    "data.plotTFR(event, condition, keyword='AR', tfr_keyword='TFR', power_type='pl')\n",
    "data.plotTFR(event, condition, keyword='AR', tfr_keyword='TFR', power_type='npl')\n",
    "data.plotTFR(event, condition, keyword='AR', tfr_keyword='TFR', bands=None, power_type='pl')\n",
    "data.plotTFR(event, condition, keyword='AR', tfr_keyword='TFR', bands=None, power_type='npl')"
   ]
  },
  {
   "cell_type": "markdown",
   "metadata": {},
   "source": [
    "# Analyses"
   ]
  },
  {
   "cell_type": "markdown",
   "metadata": {},
   "source": [
    "## Cluster Permutation Test"
   ]
  },
  {
   "cell_type": "code",
   "execution_count": null,
   "metadata": {},
   "outputs": [],
   "source": [
    "event = 'Stimulus'\n",
    "condition = 'Condition'\n",
    "data.CPT(event, condition, keyword_in='AR_Filtered',\n",
    "         keyword_out='CPT', overwrite=True)\n",
    "data.plotCPT(event, condition, keyword_in='AR_Filtered',\n",
    "             cpt_p=0.001, keyword_out='CPT')"
   ]
  },
  {
   "cell_type": "markdown",
   "metadata": {},
   "source": [
    "# Time Frequency Cluster Permutation"
   ]
  },
  {
   "cell_type": "code",
   "execution_count": null,
   "metadata": {},
   "outputs": [],
   "source": [
    "event = 'Cue'\n",
    "condition = 'Stimulus Type'\n",
    "\n",
    "for value in data._default_values(condition): # pass one at at time to save on memory\n",
    "    data.CPT(event, condition, values=[value], keyword_in='AR',\n",
    "             keyword_out='TFR_CPT', power_type='npl', tfr=True,\n",
    "             tfr_keyword='Autoreject', overwrite=True)\n",
    "    data.CPTByBand(event, condition, values=[value], keyword_in='AR',\n",
    "                   keyword_out='TFR_CPT', power_type='npl',\n",
    "                   tfr_keyword='Autoreject', overwrite=True)\n",
    "\n",
    "data.plotCPT(event, condition, keyword_in='AR', tfr=True,\n",
    "             power_type='npl', keyword_out='CPT')\n",
    "data.plotCPTByBand(event, condition, keyword_in='AR', tfr=True,\n",
    "                   power_type='npl', keyword_out='CPT')"
   ]
  },
  {
   "cell_type": "markdown",
   "metadata": {},
   "source": [
    "# Wavelet Connectivity"
   ]
  },
  {
   "cell_type": "code",
   "execution_count": null,
   "metadata": {},
   "outputs": [],
   "source": [
    "event = 'Stimulus'\n",
    "condition = 'Condition'\n",
    "data.waveletConnectivity(event, condition, keyword_in='AR',\n",
    "                         keyword_out='WC', \n",
    "                         bands={'theta': (4, 8), 'alpha': (8, 15),\n",
    "                                'beta': (15, 35)}, downsample=False)"
   ]
  }
 ],
 "metadata": {
  "kernelspec": {
   "display_name": "Python 3",
   "language": "python",
   "name": "python3"
  },
  "language_info": {
   "codemirror_mode": {
    "name": "ipython",
    "version": 3
   },
   "file_extension": ".py",
   "mimetype": "text/x-python",
   "name": "python",
   "nbconvert_exporter": "python",
   "pygments_lexer": "ipython3",
   "version": "3.6.8"
  },
  "toc": {
   "colors": {
    "hover_highlight": "#DAA520",
    "navigate_num": "#000000",
    "navigate_text": "#333333",
    "running_highlight": "#FF0000",
    "selected_highlight": "#FFD700",
    "sidebar_border": "#EEEEEE",
    "wrapper_background": "#FFFFFF"
   },
   "moveMenuLeft": true,
   "nav_menu": {
    "height": "242px",
    "width": "252px"
   },
   "navigate_menu": true,
   "number_sections": true,
   "sideBar": false,
   "threshold": 4,
   "toc_cell": false,
   "toc_position": {
    "height": "343px",
    "left": "1px",
    "right": "1514px",
    "top": "111px",
    "width": "212px"
   },
   "toc_section_display": "block",
   "toc_window_display": true,
   "widenNotebook": false
  }
 },
 "nbformat": 4,
 "nbformat_minor": 2
}
